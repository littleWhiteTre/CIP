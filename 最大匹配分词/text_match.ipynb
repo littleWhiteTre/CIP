{
 "cells": [
  {
   "cell_type": "code",
   "execution_count": 1,
   "metadata": {},
   "outputs": [],
   "source": [
    "'''\n",
    "author: zhilin Zhang\n",
    "'''\n",
    "data_file = './data/data.conll'\n",
    "dict_file = './data/word.dict'\n",
    "sentences_file = './data/data.txt'\n",
    "cut_file = './data/data.out'"
   ]
  },
  {
   "cell_type": "code",
   "execution_count": 2,
   "metadata": {},
   "outputs": [],
   "source": [
    "def read_data():\n",
    "    sentences = []\n",
    "    words = []\n",
    "    cut_sentences = []\n",
    "    with open(data_file, 'r', encoding='utf-8') as f:\n",
    "        line = f.readline()\n",
    "        sentence = ''\n",
    "        cut_sentence = []\n",
    "        while line:\n",
    "            if line == '\\n':\n",
    "                sentences.append(sentence)\n",
    "                cut_sentences.append(' '.join(cut_sentence))\n",
    "                cut_sentence = []\n",
    "                sentence = ''\n",
    "                line = f.readline()\n",
    "            else:\n",
    "                line = line.replace('\\n', '')\n",
    "                word = line.split('\\t')[1]\n",
    "                words.append(word)\n",
    "                cut_sentence.append(word)\n",
    "                sentence = sentence + word\n",
    "                line = f.readline()\n",
    "    words = set(words)\n",
    "    return sentences, cut_sentences, words"
   ]
  },
  {
   "cell_type": "code",
   "execution_count": 3,
   "metadata": {},
   "outputs": [],
   "source": [
    "def save_data(iter_obj, file_name):\n",
    "    with open(file_name, 'w', encoding='utf-8') as f:\n",
    "        for i in iter_obj:\n",
    "            f.write(i)\n",
    "            f.write('\\n')"
   ]
  },
  {
   "cell_type": "code",
   "execution_count": 4,
   "metadata": {},
   "outputs": [],
   "source": [
    "# sentences: sequntional stencences\n",
    "# cut_sentences: standard cut result of sentences\n",
    "#words: words dict(set)\n",
    "sentences, cut_sentences, words = read_data()"
   ]
  },
  {
   "cell_type": "code",
   "execution_count": 5,
   "metadata": {},
   "outputs": [],
   "source": [
    "def forward_max_match(text, words_dict):\n",
    "    p1 = 0\n",
    "    p2 = len(text)\n",
    "    words = []\n",
    "    while p1 < p2:\n",
    "        sub_text = text[p1: p2]\n",
    "        if p2 - p1 == 1:\n",
    "            words.append(sub_text)\n",
    "            p1 = p1 + 1\n",
    "            p2 = len(text)\n",
    "        elif sub_text in words_dict:\n",
    "            words.append(sub_text)\n",
    "            p1 = p2\n",
    "            p2 = len(text)\n",
    "        else:\n",
    "            p2 = p2 - 1\n",
    "    return words"
   ]
  },
  {
   "cell_type": "code",
   "execution_count": 6,
   "metadata": {},
   "outputs": [],
   "source": [
    "# save file 'data.out'\n",
    "with open(cut_file, 'w', encoding='utf-8') as f:\n",
    "    for i, stc in enumerate(sentences):\n",
    "        cut_result = forward_max_match(stc, words)\n",
    "        f.write(' '.join(cut_result))\n",
    "        f.write('\\n')"
   ]
  },
  {
   "cell_type": "code",
   "execution_count": 24,
   "metadata": {},
   "outputs": [
    {
     "name": "stdout",
     "output_type": "stream",
     "text": [
      "precision:0.977186, recall:0.975585, f1:0.976385\n"
     ]
    }
   ],
   "source": [
    "# compute precision, recall and f1 value\n",
    "precision = 0\n",
    "recall = 0\n",
    "for i, text in enumerate(sentences):\n",
    "    target = cut_sentences[i].split()\n",
    "    cut = forward_max_match(text, words)\n",
    "    target_ = [[p, p+len(t)-1] for p,t in enumerate(target)]\n",
    "    cut_ = [[p, p+len(t)-1] for p,t in enumerate(cut)]\n",
    "    itsc = []\n",
    "    for t in cut_:\n",
    "        if t in target_:\n",
    "            itsc.append(t)\n",
    "    p = len(itsc) / len(cut)\n",
    "    r = len(itsc) / len(target)\n",
    "    precision = precision + p\n",
    "    recall = recall + r\n",
    "precision = precision / i\n",
    "recall = recall / i\n",
    "f1 = (2 * precision * recall) / (precision + recall)\n",
    "print('%s:%f, %s:%f, %s:%f' % ('precision', precision, 'recall', recall, 'f1', f1))"
   ]
  }
 ],
 "metadata": {
  "kernelspec": {
   "display_name": "Python 3",
   "language": "python",
   "name": "python3"
  },
  "language_info": {
   "codemirror_mode": {
    "name": "ipython",
    "version": 3
   },
   "file_extension": ".py",
   "mimetype": "text/x-python",
   "name": "python",
   "nbconvert_exporter": "python",
   "pygments_lexer": "ipython3",
   "version": "3.6.10"
  }
 },
 "nbformat": 4,
 "nbformat_minor": 4
}
